{
 "cells": [
  {
   "cell_type": "markdown",
   "metadata": {
    "collapsed": true
   },
   "source": [
    ""
   ]
  },
  {
   "cell_type": "markdown",
   "metadata": {},
   "source": [
    "## Какое хранилище данных требуется?\n",
    "\n",
    "1. Память - что если не помещается?\n",
    "2. Диск - что если и здесь не помещается?\n",
    "3. Кластер - если нет доступа к кластеру?\n",
    "4. Облако - а если данные нужны на компьютере?"
   ]
  },
  {
   "cell_type": "markdown",
   "metadata": {},
   "source": [
    "## Какой тип доступа к данным требуется\n",
    "\n",
    "1. Реляционный - pandas, SQL-compatible RDBMS\n",
    "2. Документы - MongoDB, CouchDB\n",
    "3. Ключ-значение - Redis, Memcached\n",
    "4. Граф - Neo4j"
   ]
  },
  {
   "cell_type": "markdown",
   "metadata": {},
   "source": [
    "## Сегодня мы фокусируемся на реляционных БД.\n",
    "\n",
    "1. Что такое реляционная БД?\n",
    "2. Какой грамматике данных она следует?\n",
    "3. Как эта грамматика реализована в Pandas?\n",
    "4. Как эта грамматика реализована в SQL?\n"
   ]
  },
  {
   "cell_type": "markdown",
   "metadata": {},
   "source": [
    "Абстракция между формой данных и содержанием.\n",
    "\n",
    "Не говорим \"дай мне 20 байт лежащие в этом секторе диска с этой позиции\".\n",
    "\n",
    "Говорим \"дай мне данные соответствующие моему запросу, не зависимо от реализации\".\n"
   ]
  },
  {
   "cell_type": "markdown",
   "metadata": {},
   "source": [
    "## Реляционная БД\n",
    "\n",
    "1. Набор таблиц, каждая таблица описывает коллекцию сущностей одного типа.\n",
    "2. Каждая строка в таблице - запись об одной сущности.\n",
    "3. Каждый столбец представляет собой определенный атрибут сущности.\n",
    "4. Ячейки должны быть атомарными.\n",
    "5. Таблицы могут иметь отношения между друг другом."
   ]
  },
  {
   "cell_type": "markdown",
   "metadata": {},
   "source": [
    "## Пример сводной таблицы операций (действие - pandas - SQL)\n",
    "\n",
    "1. Выборка - query() (and loc[], iloc[]) - SELECT WHERE\n",
    "2. Сортировка - sort() - ORDER BY\n",
    "3. Проекция (выбор колонок) - [] - SELECT COLUMN\n",
    "4. Поиск уникальных - unique(),drop_duplicates() - SELECT DISTINCT COLUMN\n",
    "5. Создание колонки - assign - ALTER/UPDATE\n",
    "6. Агрегирование - describe(), mean(), max() ... - AVG(),MAX()\n",
    "8. Группировка - groupby/agg, count, mean - GROUP BY\n",
    "9. Удаление - drop/masking - DELETE/WHERE"
   ]
  },
  {
   "cell_type": "code",
   "execution_count": null,
   "metadata": {},
   "outputs": [],
   "source": [
    "import pandas as pd\n",
    "\n",
    "pd.set_option('display.width', 500)\n",
    "pd.set_option('display.max_columns', 100)\n",
    "pd.set_option('display.notebook_repr_html', True)"
   ]
  },
  {
   "cell_type": "code",
   "execution_count": null,
   "metadata": {},
   "outputs": [],
   "source": [
    "u_cols = ['user_id', 'age', 'sex', 'occupation', 'zip_code']\n",
    "users = pd.read_csv(\n",
    "    'http://files.grouplens.org/datasets/movielens/ml-100k/u.user',\n",
    "    sep='|', names=u_cols)\n",
    "\n",
    "r_cols = ['user_id', 'movie_id', 'rating', 'unix_timestamp']\n",
    "ratings = pd.read_csv(\n",
    "    'http://files.grouplens.org/datasets/movielens/ml-100k/u.data',\n",
    "    sep='\\t', names=r_cols)\n",
    "\n",
    "m_cols = ['movie_id', 'title', 'release_date', 'video_release_date', 'imdb_url']\n",
    "movies = pd.read_csv(\n",
    "    'http://files.grouplens.org/datasets/movielens/ml-100k/u.item',\n",
    "    sep='|', names=m_cols, usecols=range(5))"
   ]
  },
  {
   "cell_type": "code",
   "execution_count": null,
   "metadata": {},
   "outputs": [],
   "source": [
    "ourschema = \"\"\"\n",
    "DROP TABLE IF EXISTS \"users\";\n",
    "DROP TABLE IF EXISTS \"ratings\";\n",
    "DROP TABLE IF EXISTS \"movies\";\n",
    "CREATE TABLE \"users\" (\n",
    "    \"user_id\" INTEGER PRIMARY KEY NOT NULL ,\n",
    "    \"age\" INTEGER,\n",
    "    \"sex\" VARCHAR,\n",
    "    \"occupation\" VARCHAR,\n",
    "    \"zip_code\" VARCHAR\n",
    ");\n",
    "CREATE TABLE \"movies\" (\n",
    "    \"movie_id\" INTEGER PRIMARY KEY NOT NULL ,\n",
    "    \"title\" VARCHAR,\n",
    "    \"release_date\" VARCHAR,\n",
    "    \"video_release_date\" FLOAT,\n",
    "    \"imdb_url\" VARCHAR\n",
    ");\n",
    "CREATE TABLE \"ratings\" (\n",
    "    \"id\" INTEGER PRIMARY KEY AUTOINCREMENT NOT NULL,\n",
    "    \"user_id\" INTEGER NOT NULL,\n",
    "    \"movie_id\" INTEGER NOT NULL,\n",
    "    \"rating\" INTEGER,\n",
    "    \"unix_timestamp\" INTEGER,\n",
    "    FOREIGN KEY(user_id) REFERENCES users(user_id),\n",
    "    FOREIGN KEY(movie_id) REFERENCES movies(movie_id)\n",
    ");\n",
    "\"\"\""
   ]
  },
  {
   "cell_type": "code",
   "execution_count": null,
   "metadata": {},
   "outputs": [],
   "source": [
    "from sqlite3 import dbapi2 as sq3\n",
    "import os\n",
    "\n",
    "PATHSTART = \".\"\n",
    "\n",
    "\n",
    "def get_db(dbfile):\n",
    "    sqlite_db = sq3.connect(os.path.join(PATHSTART, dbfile))\n",
    "    return sqlite_db\n",
    "\n",
    "\n",
    "def init_db(dbfile, schema):\n",
    "    \"\"\"Creates the database tables.\"\"\"\n",
    "    db = get_db(dbfile)\n",
    "    db.text_factory = str\n",
    "    db.cursor().executescript(schema)\n",
    "    db.commit()\n",
    "    return db"
   ]
  },
  {
   "cell_type": "code",
   "execution_count": null,
   "metadata": {},
   "outputs": [],
   "source": [
    "db = init_db(\"movielens.db\", ourschema)\n",
    "movies.to_sql(\"movies\", db, if_exists=\"append\", index=False)\n",
    "ratings.to_sql(\"ratings\", db, if_exists=\"append\", index=False)\n",
    "users.to_sql(\"users\", db, if_exists=\"append\", index=False)"
   ]
  },
  {
   "cell_type": "code",
   "execution_count": null,
   "metadata": {},
   "outputs": [],
   "source": [
    "movies.head()"
   ]
  },
  {
   "cell_type": "code",
   "execution_count": null,
   "metadata": {},
   "outputs": [],
   "source": [
    "sel = \"SELECT * FROM movies;\"\n",
    "c = db.cursor().execute(sel)\n",
    "print len(c.fetchall())\n",
    "print movies.shape"
   ]
  },
  {
   "cell_type": "code",
   "execution_count": null,
   "metadata": {},
   "outputs": [],
   "source": [
    "ins = \"INSERT INTO movies (movie_id, title, release_date, video_release_date, imdb_url) VALUES (?,?,?,?,?);\"\n",
    "valstoinsert = (-1, 'My super cool Data Science Movie', 'today!', None, 'nope, no url')\n",
    "db.cursor().execute(ins, valstoinsert)\n",
    "db.commit()\n",
    "print db.cursor().execute(\"SELECT * FROM movies;\").fetchall()[0]"
   ]
  },
  {
   "cell_type": "code",
   "execution_count": null,
   "metadata": {},
   "outputs": [],
   "source": [
    "rem = \"DELETE FROM movies WHERE movie_id=-1;\"\n",
    "c = db.cursor().execute(rem)\n",
    "db.commit()\n",
    "print db.cursor().execute(\"SELECT * FROM movies;\").fetchall()[0]"
   ]
  },
  {
   "cell_type": "code",
   "execution_count": null,
   "metadata": {},
   "outputs": [],
   "source": [
    "def make_query(sel):\n",
    "    c = db.cursor().execute(sel)\n",
    "    return c.fetchall()\n",
    "\n",
    "\n",
    "print make_query(\"SELECT * FROM movies;\")"
   ]
  },
  {
   "cell_type": "code",
   "execution_count": null,
   "metadata": {},
   "outputs": [],
   "source": [
    "# Different ways of selecting\n",
    "print movies.head(5)\n",
    "print movies.query(\"movie_id>1 & movie_id < 5\")\n",
    "print movies[(movies.movie_id > 1) & (movies.movie_id < 5)]"
   ]
  },
  {
   "cell_type": "code",
   "execution_count": null,
   "metadata": {},
   "outputs": [],
   "source": [
    "# Get info on db table\n",
    "print make_query(\"PRAGMA table_info(movies);\")\n",
    "movie_cols = [e[1] for e in make_query(\"PRAGMA table_info(movies);\")]\n",
    "print movie_cols"
   ]
  },
  {
   "cell_type": "code",
   "execution_count": null,
   "metadata": {},
   "outputs": [],
   "source": [
    "def make_frame(list_of_tuples, legend=movie_cols):\n",
    "    framelist = []\n",
    "    for i, cname in enumerate(legend):\n",
    "        framelist.append((cname, [e[i] for e in list_of_tuples]))\n",
    "    return pd.DataFrame.from_items(framelist)"
   ]
  },
  {
   "cell_type": "code",
   "execution_count": null,
   "metadata": {},
   "outputs": [],
   "source": [
    "# query to DataFrame\n",
    "out = make_query(\"SELECT * FROM movies WHERE movie_id > 1 AND movie_id < 5;\")\n",
    "print out\n",
    "print make_frame(out).head()"
   ]
  },
  {
   "cell_type": "code",
   "execution_count": null,
   "metadata": {},
   "outputs": [],
   "source": [
    "# NaN and None and null etc same\n",
    "out = make_query(\"SELECT * FROM movies WHERE video_release_date IS NULL;\")\n",
    "print make_frame(out).head()"
   ]
  },
  {
   "cell_type": "code",
   "execution_count": null,
   "metadata": {},
   "outputs": [],
   "source": [
    "# we can use LIKE clause\n",
    "print movies[movies.title.str.contains('1996')].head()\n",
    "out = make_query(\"SELECT * FROM movies WHERE title LIKE '%1996%';\")\n",
    "print make_frame(out).head()"
   ]
  },
  {
   "cell_type": "code",
   "execution_count": null,
   "metadata": {},
   "outputs": [],
   "source": [
    "# We can select list of values\n",
    "out = make_query(\"SELECT * FROM movies WHERE release_date IN ('01-Jan-1995','01-Jan-1996');\")\n",
    "print make_frame(out).head()\n",
    "\n",
    "print movies[movies.release_date.isin(['01-Jan-1995', '01-Jan-1996'])].head()"
   ]
  },
  {
   "cell_type": "code",
   "execution_count": null,
   "metadata": {},
   "outputs": [],
   "source": [
    "# between clause\n",
    "out = make_query(\"SELECT * FROM movies WHERE movie_id BETWEEN 10 AND 50;\")\n",
    "print make_frame(out).head()"
   ]
  },
  {
   "cell_type": "code",
   "execution_count": null,
   "metadata": {},
   "outputs": [],
   "source": [
    "# query\n",
    "print movies.query(\"10 <= movie_id <= 50\").head()"
   ]
  },
  {
   "cell_type": "code",
   "execution_count": null,
   "metadata": {},
   "outputs": [],
   "source": [
    "# sorting\n",
    "print movies.sort_values('title').head()\n",
    "print make_frame(make_query(\"SELECT * FROM movies ORDER BY title;\")).head()\n",
    "print movies.sort_values('title', ascending=False).head()\n",
    "print make_frame(make_query(\"SELECT * FROM movies ORDER BY title DESC;\")).head()"
   ]
  },
  {
   "cell_type": "code",
   "execution_count": null,
   "metadata": {},
   "outputs": [],
   "source": [
    "# select columns\n",
    "print movies[['title', 'release_date']].head()\n",
    "print make_frame(make_query(\"SELECT title, release_date FROM movies;\"),\n",
    "                 legend=['title', 'release_date']).head()"
   ]
  },
  {
   "cell_type": "code",
   "execution_count": null,
   "metadata": {},
   "outputs": [],
   "source": [
    "# unique selection\n",
    "print movies['release_date'].drop_duplicates().count()\n",
    "print movies['release_date'].drop_duplicates().head()\n",
    "print make_frame(make_query(\"SELECT DISTINCT release_date FROM movies;\"),\n",
    "                 legend=['release_date'])['release_date'].head()"
   ]
  },
  {
   "cell_type": "code",
   "execution_count": null,
   "metadata": {},
   "outputs": [],
   "source": [
    "# add new columns\n",
    "print users.head()\n",
    "users['sex_occupation'] = users['sex'] + ':' + users['occupation']\n",
    "users.assign(sex_occupation2=users['sex'] + ':' + users['occupation'])\n",
    "print users.head()\n",
    "# humm...\n",
    "print users.assign(sex_occupation2=users['sex'] + ':' + users['occupation']).head()"
   ]
  },
  {
   "cell_type": "markdown",
   "metadata": {},
   "source": [
    "## users.loc[] vs users[]"
   ]
  },
  {
   "cell_type": "code",
   "execution_count": null,
   "metadata": {},
   "outputs": [],
   "source": [
    "alt = \"ALTER TABLE users ADD COLUMN sex_occupation;\"\n",
    "db.cursor().execute(alt)\n",
    "print make_query(\"PRAGMA table_info(contributors);\")\n",
    "\n",
    "out = make_query(\"SELECT user_id, sex, occupation FROM users;\")\n",
    "out2 = [(e[1] + \":\" + e[2], e[0]) for e in out]\n",
    "print out2\n",
    "\n",
    "alt2 = \"UPDATE users SET sex_occupation = ? WHERE user_id = ?;\"\n",
    "for ele in out2:\n",
    "    db.cursor().execute(alt2, ele)\n",
    "db.commit()\n",
    "print make_frame(make_query(\"SELECT * FROM users;\"), u_cols + [\"sex_occupation\"]).head()"
   ]
  },
  {
   "cell_type": "code",
   "execution_count": null,
   "metadata": {},
   "outputs": [],
   "source": [
    "# aggregation\n",
    "print ratings.describe()\n",
    "print ratings.rating.max()\n",
    "\n",
    "out = make_query(\"SELECT MAX(rating) AS maxrating FROM ratings;\")\n",
    "print make_frame(out, ['maxrating'])\n",
    "\n",
    "print ratings.groupby(\"movie_id\")['movie_id', 'rating'].mean()\n",
    "out = make_query(\"SELECT movie_id, AVG(rating) AS avgr FROM ratings GROUP BY movie_id;\")\n",
    "print make_frame(out, legend=['movie_id', 'avgr'])"
   ]
  },
  {
   "cell_type": "code",
   "execution_count": null,
   "metadata": {},
   "outputs": [],
   "source": [
    "# Remove rows\n",
    "movies2 = movies.copy()\n",
    "print movies2.head()\n",
    "movies2.set_index('title', inplace=True)\n",
    "movies2.drop(['Toy Story (1995)'], inplace=True)\n",
    "print movies2.head()\n",
    "movies2.reset_index(inplace=True)\n",
    "print movies2.head()"
   ]
  },
  {
   "cell_type": "code",
   "execution_count": null,
   "metadata": {},
   "outputs": [],
   "source": [
    "# Remove rows (better)\n",
    "print movies[movies.title != 'Toy Story (1995)'].head()"
   ]
  },
  {
   "cell_type": "code",
   "execution_count": null,
   "metadata": {},
   "outputs": [],
   "source": [
    "# limits\n",
    "print make_frame(make_query(\"SELECT * FROM movies LIMIT 3\"))\n",
    "print movies[0:3]\n",
    "print movies.head(3)"
   ]
  },
  {
   "cell_type": "code",
   "execution_count": null,
   "metadata": {},
   "outputs": [],
   "source": [
    "# joins\n",
    "# inner\n",
    "out = make_query(\n",
    "    \"SELECT ratings.movie_id, ratings.rating, movies.title FROM ratings, movies WHERE ratings.movie_id = movies.movie_id\")\n",
    "print make_frame(out, legend=['ratings.movie_id', 'ratings.rating', 'movies.title'])\n",
    "print ratings.merge(movies, on='movie_id')"
   ]
  },
  {
   "cell_type": "code",
   "execution_count": null,
   "metadata": {},
   "outputs": [],
   "source": [
    "# left\n",
    "query_join_str = \"SELECT ratings.movie_id, ratings.rating, movies.title FROM ratings LEFT JOIN movies ON ratings.movie_id = movies.movie_id\"\n",
    "out = make_query(query_join_str)\n",
    "print make_frame(out, legend=['ratings.movie_id', 'ratings.rating', 'movies.title'])\n",
    "print ratings.merge(movies, on='movie_id', how='left')"
   ]
  },
  {
   "cell_type": "code",
   "execution_count": null,
   "metadata": {},
   "outputs": [],
   "source": [
    "pd.read_sql(query_join_str, db).head()"
   ]
  },
  {
   "cell_type": "markdown",
   "metadata": {},
   "source": [
    "## Полезные ссылки\n",
    "1. http://blog.codinghorror.com/a-visual-explanation-of-sql-joins/\n",
    "2. http://sebastianraschka.com/Articles/sqlite3_database.html\n",
    "3. http://sebastianraschka.com/Articles/2014_sqlite_in_python_tutorial.html#unique_indexes\n",
    "4. https://github.com/tthibo/SQL-Tutorial\n",
    "5. http://chrisalbon.com/"
   ]
  }
 ],
 "metadata": {
  "kernelspec": {
   "display_name": "Python 2",
   "language": "python",
   "name": "python2"
  },
  "language_info": {
   "codemirror_mode": {
    "name": "ipython",
    "version": 2.0
   },
   "file_extension": ".py",
   "mimetype": "text/x-python",
   "name": "python",
   "nbconvert_exporter": "python",
   "pygments_lexer": "ipython2",
   "version": "2.7.6"
  }
 },
 "nbformat": 4,
 "nbformat_minor": 0
}
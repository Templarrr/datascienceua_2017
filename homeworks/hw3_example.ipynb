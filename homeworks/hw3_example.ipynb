{
 "cells": [
  {
   "cell_type": "markdown",
   "metadata": {},
   "source": [
    "## Вывести с помощью seaborn график появления обновлений, линейную регрессию по нему и порассуждать о том, как эти данные соотносятся с предыдущим домашним заданием. "
   ]
  },
  {
   "cell_type": "code",
   "execution_count": 37,
   "metadata": {
    "collapsed": true
   },
   "outputs": [],
   "source": [
    "%matplotlib inline\n",
    "import pandas as pd\n",
    "from matplotlib import pyplot as plt"
   ]
  },
  {
   "cell_type": "markdown",
   "metadata": {},
   "source": [
    "Загружаем данные, которые мы сохранили предварительно. \n",
    "Параметр parse_dates необходим, когда ваши данные содержат даты - так как csv формат это по \n",
    "сути plain text формат, то и даты в нем просто строки текста и без перечня колонок с датами \n",
    "в этом параметре они будут загружены как текст."
   ]
  },
  {
   "cell_type": "code",
   "execution_count": 38,
   "metadata": {
    "collapsed": false
   },
   "outputs": [
    {
     "data": {
      "text/html": [
       "<div>\n",
       "<table border=\"1\" class=\"dataframe\">\n",
       "  <thead>\n",
       "    <tr style=\"text-align: right;\">\n",
       "      <th></th>\n",
       "      <th>Unnamed: 0</th>\n",
       "      <th>date</th>\n",
       "      <th>createdDate</th>\n",
       "      <th>name</th>\n",
       "      <th>playerClass</th>\n",
       "      <th>index</th>\n",
       "    </tr>\n",
       "  </thead>\n",
       "  <tbody>\n",
       "    <tr>\n",
       "      <th>0</th>\n",
       "      <td>0</td>\n",
       "      <td>2014-12-11 20:01:17.997</td>\n",
       "      <td>2014-12-11T20:01:17.997Z</td>\n",
       "      <td>Windfury Shaman by Reynad</td>\n",
       "      <td>Shaman</td>\n",
       "      <td>0</td>\n",
       "    </tr>\n",
       "    <tr>\n",
       "      <th>1</th>\n",
       "      <td>1</td>\n",
       "      <td>2014-12-11 20:13:16.995</td>\n",
       "      <td>2014-12-11T20:13:16.995Z</td>\n",
       "      <td>BMA's Chowlock Deck</td>\n",
       "      <td>Warlock</td>\n",
       "      <td>1</td>\n",
       "    </tr>\n",
       "    <tr>\n",
       "      <th>2</th>\n",
       "      <td>2</td>\n",
       "      <td>2014-12-12 03:56:04.037</td>\n",
       "      <td>2014-12-12T03:56:04.037Z</td>\n",
       "      <td>[GvG] Mecha Zoo By Gaara</td>\n",
       "      <td>Warlock</td>\n",
       "      <td>2</td>\n",
       "    </tr>\n",
       "    <tr>\n",
       "      <th>3</th>\n",
       "      <td>3</td>\n",
       "      <td>2014-12-12 22:57:19.684</td>\n",
       "      <td>2014-12-12T22:57:19.684Z</td>\n",
       "      <td>Tempo Mage</td>\n",
       "      <td>Mage</td>\n",
       "      <td>3</td>\n",
       "    </tr>\n",
       "    <tr>\n",
       "      <th>4</th>\n",
       "      <td>4</td>\n",
       "      <td>2014-12-12 23:50:56.608</td>\n",
       "      <td>2014-12-12T23:50:56.608Z</td>\n",
       "      <td>Kitkatz's Control Warrior</td>\n",
       "      <td>Warrior</td>\n",
       "      <td>4</td>\n",
       "    </tr>\n",
       "  </tbody>\n",
       "</table>\n",
       "</div>"
      ],
      "text/plain": [
       "   Unnamed: 0                    date               createdDate  \\\n",
       "0           0 2014-12-11 20:01:17.997  2014-12-11T20:01:17.997Z   \n",
       "1           1 2014-12-11 20:13:16.995  2014-12-11T20:13:16.995Z   \n",
       "2           2 2014-12-12 03:56:04.037  2014-12-12T03:56:04.037Z   \n",
       "3           3 2014-12-12 22:57:19.684  2014-12-12T22:57:19.684Z   \n",
       "4           4 2014-12-12 23:50:56.608  2014-12-12T23:50:56.608Z   \n",
       "\n",
       "                        name playerClass  index  \n",
       "0  Windfury Shaman by Reynad      Shaman      0  \n",
       "1        BMA's Chowlock Deck     Warlock      1  \n",
       "2   [GvG] Mecha Zoo By Gaara     Warlock      2  \n",
       "3                 Tempo Mage        Mage      3  \n",
       "4  Kitkatz's Control Warrior     Warrior      4  "
      ]
     },
     "execution_count": 38,
     "metadata": {},
     "output_type": "execute_result"
    }
   ],
   "source": [
    "df = pd.read_csv('tempostorm_date.csv', encoding='utf-8', parse_dates=['date'])\n",
    "df.head()"
   ]
  },
  {
   "cell_type": "code",
   "execution_count": 39,
   "metadata": {
    "collapsed": false
   },
   "outputs": [
    {
     "data": {
      "text/plain": [
       "Unnamed: 0              int64\n",
       "date           datetime64[ns]\n",
       "createdDate            object\n",
       "name                   object\n",
       "playerClass            object\n",
       "index                   int64\n",
       "dtype: object"
      ]
     },
     "execution_count": 39,
     "metadata": {},
     "output_type": "execute_result"
    }
   ],
   "source": [
    "df.dtypes"
   ]
  },
  {
   "cell_type": "markdown",
   "metadata": {},
   "source": [
    "Unnamed: 0 ? Чтобы не получать эту колонку, при сохранении используя to_csv передавайте параметр index=False. По умолчанию процедура сохранения в файл пишет индекс отдельной колонкой, при загрузке эта колонка воспринимается как данные."
   ]
  },
  {
   "cell_type": "code",
   "execution_count": 40,
   "metadata": {
    "collapsed": false
   },
   "outputs": [
    {
     "data": {
      "text/plain": [
       "date           datetime64[ns]\n",
       "createdDate            object\n",
       "name                   object\n",
       "playerClass            object\n",
       "index                   int64\n",
       "dtype: object"
      ]
     },
     "execution_count": 40,
     "metadata": {},
     "output_type": "execute_result"
    }
   ],
   "source": [
    "del df['Unnamed: 0']\n",
    "df.dtypes"
   ]
  },
  {
   "cell_type": "code",
   "execution_count": 41,
   "metadata": {
    "collapsed": true
   },
   "outputs": [],
   "source": [
    "import seaborn as sns"
   ]
  },
  {
   "cell_type": "markdown",
   "metadata": {},
   "source": [
    "У seaborn есть известные проблемы при работе с датами в качестве оси. Для упрощения жизни нам \n",
    "мы создадим отдельную колонку, которая будет показывать разницу в секундах с момента появления первой записи."
   ]
  },
  {
   "cell_type": "code",
   "execution_count": 42,
   "metadata": {
    "collapsed": false
   },
   "outputs": [
    {
     "data": {
      "text/html": [
       "<div>\n",
       "<table border=\"1\" class=\"dataframe\">\n",
       "  <thead>\n",
       "    <tr style=\"text-align: right;\">\n",
       "      <th></th>\n",
       "      <th>date</th>\n",
       "      <th>createdDate</th>\n",
       "      <th>name</th>\n",
       "      <th>playerClass</th>\n",
       "      <th>index</th>\n",
       "      <th>date_timestamp</th>\n",
       "    </tr>\n",
       "  </thead>\n",
       "  <tbody>\n",
       "    <tr>\n",
       "      <th>0</th>\n",
       "      <td>2014-12-11 20:01:17.997</td>\n",
       "      <td>2014-12-11T20:01:17.997Z</td>\n",
       "      <td>Windfury Shaman by Reynad</td>\n",
       "      <td>Shaman</td>\n",
       "      <td>0</td>\n",
       "      <td>0.000</td>\n",
       "    </tr>\n",
       "    <tr>\n",
       "      <th>1</th>\n",
       "      <td>2014-12-11 20:13:16.995</td>\n",
       "      <td>2014-12-11T20:13:16.995Z</td>\n",
       "      <td>BMA's Chowlock Deck</td>\n",
       "      <td>Warlock</td>\n",
       "      <td>1</td>\n",
       "      <td>718.998</td>\n",
       "    </tr>\n",
       "    <tr>\n",
       "      <th>2</th>\n",
       "      <td>2014-12-12 03:56:04.037</td>\n",
       "      <td>2014-12-12T03:56:04.037Z</td>\n",
       "      <td>[GvG] Mecha Zoo By Gaara</td>\n",
       "      <td>Warlock</td>\n",
       "      <td>2</td>\n",
       "      <td>28486.040</td>\n",
       "    </tr>\n",
       "    <tr>\n",
       "      <th>3</th>\n",
       "      <td>2014-12-12 22:57:19.684</td>\n",
       "      <td>2014-12-12T22:57:19.684Z</td>\n",
       "      <td>Tempo Mage</td>\n",
       "      <td>Mage</td>\n",
       "      <td>3</td>\n",
       "      <td>96961.687</td>\n",
       "    </tr>\n",
       "    <tr>\n",
       "      <th>4</th>\n",
       "      <td>2014-12-12 23:50:56.608</td>\n",
       "      <td>2014-12-12T23:50:56.608Z</td>\n",
       "      <td>Kitkatz's Control Warrior</td>\n",
       "      <td>Warrior</td>\n",
       "      <td>4</td>\n",
       "      <td>100178.611</td>\n",
       "    </tr>\n",
       "  </tbody>\n",
       "</table>\n",
       "</div>"
      ],
      "text/plain": [
       "                     date               createdDate  \\\n",
       "0 2014-12-11 20:01:17.997  2014-12-11T20:01:17.997Z   \n",
       "1 2014-12-11 20:13:16.995  2014-12-11T20:13:16.995Z   \n",
       "2 2014-12-12 03:56:04.037  2014-12-12T03:56:04.037Z   \n",
       "3 2014-12-12 22:57:19.684  2014-12-12T22:57:19.684Z   \n",
       "4 2014-12-12 23:50:56.608  2014-12-12T23:50:56.608Z   \n",
       "\n",
       "                        name playerClass  index  date_timestamp  \n",
       "0  Windfury Shaman by Reynad      Shaman      0           0.000  \n",
       "1        BMA's Chowlock Deck     Warlock      1         718.998  \n",
       "2   [GvG] Mecha Zoo By Gaara     Warlock      2       28486.040  \n",
       "3                 Tempo Mage        Mage      3       96961.687  \n",
       "4  Kitkatz's Control Warrior     Warrior      4      100178.611  "
      ]
     },
     "execution_count": 42,
     "metadata": {},
     "output_type": "execute_result"
    }
   ],
   "source": [
    "df['date_timestamp']= pd.to_numeric(df['date']).apply(lambda x:x/float(10**9))\n",
    "df['date_timestamp']=df['date_timestamp']-df['date_timestamp'].min()\n",
    "df.head()"
   ]
  },
  {
   "cell_type": "code",
   "execution_count": 43,
   "metadata": {
    "collapsed": false
   },
   "outputs": [
    {
     "data": {
      "text/html": [
       "<div>\n",
       "<table border=\"1\" class=\"dataframe\">\n",
       "  <thead>\n",
       "    <tr style=\"text-align: right;\">\n",
       "      <th></th>\n",
       "      <th>date</th>\n",
       "      <th>createdDate</th>\n",
       "      <th>name</th>\n",
       "      <th>playerClass</th>\n",
       "      <th>index</th>\n",
       "      <th>date_timestamp</th>\n",
       "    </tr>\n",
       "  </thead>\n",
       "  <tbody>\n",
       "    <tr>\n",
       "      <th>13480</th>\n",
       "      <td>2017-01-29 04:35:49.254</td>\n",
       "      <td>2017-01-29T04:35:49.254Z</td>\n",
       "      <td>Dragon Priest Eagle</td>\n",
       "      <td>Priest</td>\n",
       "      <td>13480</td>\n",
       "      <td>6.733647e+07</td>\n",
       "    </tr>\n",
       "    <tr>\n",
       "      <th>13481</th>\n",
       "      <td>2017-01-29 04:39:47.797</td>\n",
       "      <td>2017-01-29T04:39:47.797Z</td>\n",
       "      <td>Freeze Mage Eagle</td>\n",
       "      <td>Mage</td>\n",
       "      <td>13481</td>\n",
       "      <td>6.733671e+07</td>\n",
       "    </tr>\n",
       "    <tr>\n",
       "      <th>13482</th>\n",
       "      <td>2017-01-29 04:42:58.776</td>\n",
       "      <td>2017-01-29T04:42:58.776Z</td>\n",
       "      <td>Here Little Fishy</td>\n",
       "      <td>Paladin</td>\n",
       "      <td>13482</td>\n",
       "      <td>6.733690e+07</td>\n",
       "    </tr>\n",
       "    <tr>\n",
       "      <th>13483</th>\n",
       "      <td>2017-01-29 06:54:17.288</td>\n",
       "      <td>2017-01-29T06:54:17.288Z</td>\n",
       "      <td>hunter reno otk 1.0</td>\n",
       "      <td>Priest</td>\n",
       "      <td>13483</td>\n",
       "      <td>6.734478e+07</td>\n",
       "    </tr>\n",
       "    <tr>\n",
       "      <th>13484</th>\n",
       "      <td>2017-01-29 10:27:17.064</td>\n",
       "      <td>2017-01-29T10:27:17.064Z</td>\n",
       "      <td>Wild aggro beast druid</td>\n",
       "      <td>Druid</td>\n",
       "      <td>13484</td>\n",
       "      <td>6.735756e+07</td>\n",
       "    </tr>\n",
       "  </tbody>\n",
       "</table>\n",
       "</div>"
      ],
      "text/plain": [
       "                         date               createdDate  \\\n",
       "13480 2017-01-29 04:35:49.254  2017-01-29T04:35:49.254Z   \n",
       "13481 2017-01-29 04:39:47.797  2017-01-29T04:39:47.797Z   \n",
       "13482 2017-01-29 04:42:58.776  2017-01-29T04:42:58.776Z   \n",
       "13483 2017-01-29 06:54:17.288  2017-01-29T06:54:17.288Z   \n",
       "13484 2017-01-29 10:27:17.064  2017-01-29T10:27:17.064Z   \n",
       "\n",
       "                         name playerClass  index  date_timestamp  \n",
       "13480     Dragon Priest Eagle      Priest  13480    6.733647e+07  \n",
       "13481       Freeze Mage Eagle        Mage  13481    6.733671e+07  \n",
       "13482       Here Little Fishy     Paladin  13482    6.733690e+07  \n",
       "13483     hunter reno otk 1.0      Priest  13483    6.734478e+07  \n",
       "13484  Wild aggro beast druid       Druid  13484    6.735756e+07  "
      ]
     },
     "execution_count": 43,
     "metadata": {},
     "output_type": "execute_result"
    }
   ],
   "source": [
    "df.tail()"
   ]
  },
  {
   "cell_type": "code",
   "execution_count": 44,
   "metadata": {
    "collapsed": false
   },
   "outputs": [
    {
     "data": {
      "text/plain": [
       "<matplotlib.axes._subplots.AxesSubplot at 0xa6376d0>"
      ]
     },
     "execution_count": 44,
     "metadata": {},
     "output_type": "execute_result"
    },
    {
     "data": {
      "image/png": "[encoded data removed]",
      "text/plain": [
       "<matplotlib.figure.Figure at 0x8908c10>"
      ]
     },
     "metadata": {},
     "output_type": "display_data"
    }
   ],
   "source": [
    "sns.regplot(x='date_timestamp', y='index', data=df)"
   ]
  },
  {
   "cell_type": "markdown",
   "metadata": {},
   "source": [
    "В предыдущей работе мы уже заметили, что в работе сервиса был период нестабильности, и если взять только периоды стабильной работы - линейная регрессия дает куда более точное совпадение."
   ]
  },
  {
   "cell_type": "code",
   "execution_count": 45,
   "metadata": {
    "collapsed": false
   },
   "outputs": [
    {
     "data": {
      "text/plain": [
       "<matplotlib.axes._subplots.AxesSubplot at 0xaa46e90>"
      ]
     },
     "execution_count": 45,
     "metadata": {},
     "output_type": "execute_result"
    },
    {
     "data": {
      "image/png": "[encoded data removed]",
      "text/plain": [
       "<matplotlib.figure.Figure at 0xaa58b90>"
      ]
     },
     "metadata": {},
     "output_type": "display_data"
    }
   ],
   "source": [
    "sns.regplot(x='date_timestamp', y='index', data=df[:9000])"
   ]
  },
  {
   "cell_type": "code",
   "execution_count": 46,
   "metadata": {
    "collapsed": false
   },
   "outputs": [
    {
     "data": {
      "text/plain": [
       "<matplotlib.axes._subplots.AxesSubplot at 0x9f0a350>"
      ]
     },
     "execution_count": 46,
     "metadata": {},
     "output_type": "execute_result"
    },
    {
     "data": {
      "image/png": "[encoded data removed]",
      "text/plain": [
       "<matplotlib.figure.Figure at 0x88b3490>"
      ]
     },
     "metadata": {},
     "output_type": "display_data"
    }
   ],
   "source": [
    "sns.regplot(x='date_timestamp', y='index', data=df[11000:])"
   ]
  },
  {
   "cell_type": "markdown",
   "metadata": {},
   "source": [
    "К сожалению, seaborn не позволяет извлечь параметры, с которыми он построил регрессию, мотивируя это тем, что этот функционал исключительно для презентационных целей, но мы можем повторить то же самое с помощью statsmodel."
   ]
  },
  {
   "cell_type": "code",
   "execution_count": 47,
   "metadata": {
    "collapsed": false
   },
   "outputs": [
    {
     "data": {
      "text/plain": [
       "date_timestamp    0.00023\n",
       "dtype: float64"
      ]
     },
     "execution_count": 47,
     "metadata": {},
     "output_type": "execute_result"
    }
   ],
   "source": [
    "import statsmodels.api as sm\n",
    "model = sm.RLM(df.index, df.date_timestamp, M=sm.robust.norms.LeastSquares())\n",
    "results = model.fit()\n",
    "results.params"
   ]
  },
  {
   "cell_type": "code",
   "execution_count": 48,
   "metadata": {
    "collapsed": false
   },
   "outputs": [
    {
     "data": {
      "text/plain": [
       "date_timestamp    0.000248\n",
       "dtype: float64"
      ]
     },
     "execution_count": 48,
     "metadata": {},
     "output_type": "execute_result"
    }
   ],
   "source": [
    "model = sm.RLM(df[:9000].index, df[:9000].date_timestamp, M=sm.robust.norms.LeastSquares())\n",
    "results = model.fit()\n",
    "results.params"
   ]
  },
  {
   "cell_type": "code",
   "execution_count": 49,
   "metadata": {
    "collapsed": false
   },
   "outputs": [
    {
     "data": {
      "text/plain": [
       "date_timestamp    0.000216\n",
       "dtype: float64"
      ]
     },
     "execution_count": 49,
     "metadata": {},
     "output_type": "execute_result"
    }
   ],
   "source": [
    "model = sm.RLM(df[11000:].index, df[11000:].date_timestamp, M=sm.robust.norms.LeastSquares())\n",
    "results = model.fit()\n",
    "results.params"
   ]
  },
  {
   "cell_type": "markdown",
   "metadata": {},
   "source": [
    "Таким образом мы смогли показать, что для равномерных данных наша примерная оценка частоты из первой домашней работы близка к оценке полученной с помощью регрессии, а также подтвердить сделанные визуально выводы о падении частоты обновлений после периода нестабильности. "
   ]
  }
 ],
 "metadata": {
  "kernelspec": {
   "display_name": "Python 2",
   "language": "python",
   "name": "python2"
  },
  "language_info": {
   "codemirror_mode": {
    "name": "ipython",
    "version": 2.0
   },
   "file_extension": ".py",
   "mimetype": "text/x-python",
   "name": "python",
   "nbconvert_exporter": "python",
   "pygments_lexer": "ipython2",
   "version": "2.7.3"
  }
 },
 "nbformat": 4,
 "nbformat_minor": 0
}
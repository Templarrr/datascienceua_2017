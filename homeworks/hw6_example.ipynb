{
 "cells": [
  {
   "cell_type": "markdown",
   "metadata": {},
   "source": [
    "# Привести пример искажения данных неупомянутый в лекции."
   ]
  },
  {
   "cell_type": "markdown",
   "metadata": {},
   "source": [
    "Одним из важных пропущенных в лекции когнитивных искажений является [трактовка корреляции как причинно-следственной связи](https://en.wikipedia.org/wiki/Correlation_does_not_imply_causation)"
   ]
  },
  {
   "cell_type": "markdown",
   "metadata": {},
   "source": [
    "![](https://imgs.xkcd.com/comics/correlation.png)"
   ]
  },
  {
   "cell_type": "markdown",
   "metadata": {},
   "source": [
    "Проще говоря, если вы видите явную связь между двумя переменными, \n",
    "это еще не означает, что одна из них вызывает другую. "
   ]
  },
  {
   "cell_type": "markdown",
   "metadata": {},
   "source": [
    "![](https://meangreenmath.files.wordpress.com/2013/06/12220131541148.png)"
   ]
  },
  {
   "cell_type": "markdown",
   "metadata": {},
   "source": [
    "Одним из классических примеров, как то явление может появиться в данных является наличие третьей, не расмотренной переменной, от которой зависят обе рассматриваемые. В качестве примера рассмотрим очень подробный [ответ](https://www.quora.com/Why-do-old-people-44-above-prefer-Trump-while-younger-people-18-44-prefer-Hillary/answer/Jeremy-Sklarsky?srid=owEt) на вопрос \"действительно ли молодежь голосует иначе в США, чем взрослые\"? \n",
    "\n",
    "По первоначальным данным так и кажется, но если разбить данные по этническим группам - оказывается что именно этническая принадлежность влияет на голосования. Просто в разных этнических группах разное распределение по возрасту."
   ]
  },
  {
   "cell_type": "markdown",
   "metadata": {},
   "source": [
    "Другой пример - наличие сильного \"временного\" тренда в обоих переменных.\n",
    "\n",
    "![](https://kristinhoppe.files.wordpress.com/2012/03/139092366_ce5b410228_o.jpg)"
   ]
  },
  {
   "cell_type": "code",
   "execution_count": null,
   "metadata": {
    "collapsed": true
   },
   "outputs": [],
   "source": []
  }
 ],
 "metadata": {
  "kernelspec": {
   "display_name": "Python 2",
   "language": "python",
   "name": "python2"
  },
  "language_info": {
   "codemirror_mode": {
    "name": "ipython",
    "version": 2
   },
   "file_extension": ".py",
   "mimetype": "text/x-python",
   "name": "python",
   "nbconvert_exporter": "python",
   "pygments_lexer": "ipython2",
   "version": "2.7.3"
  }
 },
 "nbformat": 4,
 "nbformat_minor": 2
}

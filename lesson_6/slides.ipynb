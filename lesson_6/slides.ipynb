{
 "cells": [
  {
   "cell_type": "markdown",
   "metadata": {},
   "source": [
    "# Данные - последние штрихи. \n",
    "\n",
    "## Предвзятость/сдвиг в данных. Представление данных."
   ]
  },
  {
   "cell_type": "markdown",
   "metadata": {},
   "source": [
    "[Шок! Все больше детей остаются жить с родителями!](https://www.washingtonpost.com/news/wonk/wp/2012/06/20/census-everybodys-moving-into-their-parents-basements/?utm_term=.1c938d0d7e66)\n",
    "\n",
    "[Дети-бумеранги! Они никак не покинут нас](https://www.nytimes.com/2014/06/22/magazine/its-official-the-boomerang-kids-wont-leave.html?_r=0)\n",
    "\n",
    "![](https://static01.nyt.com/images/2014/06/22/magazine/22boomerang_ss-slide-ALLM/22boomerang_ss-slide-ALLM-master1050.jpg)"
   ]
  },
  {
   "cell_type": "markdown",
   "metadata": {},
   "source": [
    "Маааленькое примечание в источнике данных \n",
    "\n",
    "\"Обратите внимание, что в переписи студенты живущие в общежитиях учтены как живущие с родителями\" [(c)](https://www.theatlantic.com/business/archive/2014/07/everybody-freaking-out-about-millennials-living-with-their-parents-needs-to-read-this-1-sentence/373893/)"
   ]
  },
  {
   "cell_type": "markdown",
   "metadata": {},
   "source": [
    "## Некоторые наиболее распространенные типы искажений в данных.\n",
    "\n",
    "1. [Систематическая ошибка отбора](https://ru.wikipedia.org/wiki/%D0%A1%D0%B8%D1%81%D1%82%D0%B5%D0%BC%D0%B0%D1%82%D0%B8%D1%87%D0%B5%D1%81%D0%BA%D0%B0%D1%8F_%D0%BE%D1%88%D0%B8%D0%B1%D0%BA%D0%B0_%D0%BE%D1%82%D0%B1%D0%BE%D1%80%D0%B0) - Selection bias.\n",
    "2. [Публикационная предвзятость](https://en.wikipedia.org/wiki/Publication_bias) - Publication bias.\n",
    "3. [Предвзятость в выборке ответивших](https://en.wikipedia.org/wiki/Non-response_bias) - Non-reponse bias.\n",
    "4. [Искажение выборочных интервалов](https://en.wikipedia.org/wiki/Length_time_bias) - Length (time) bias. "
   ]
  },
  {
   "cell_type": "markdown",
   "metadata": {},
   "source": [
    "## Систематическая ошибка отбора\n",
    "\n",
    "![data/election.png](data/election.png)\n",
    "\n",
    "2.3 миллиона ответов из 10 миллионов опрошеных.\n",
    "\n",
    "Источники данных:\n",
    "1. Подписчики Literary digest (репрезентативность?)\n",
    "2. Владельцы машин (1936? только у богатых)\n",
    "3. Телефонный справочник (аналогично)"
   ]
  },
  {
   "cell_type": "markdown",
   "metadata": {},
   "source": [
    "## Публикационная предвзятость.\n",
    "\n",
    "Еще несколько важных терминов\n",
    "\n",
    "[Нулевая гипотеза](https://ru.wikipedia.org/wiki/%D0%9D%D1%83%D0%BB%D0%B5%D0%B2%D0%B0%D1%8F_%D0%B3%D0%B8%D0%BF%D0%BE%D1%82%D0%B5%D0%B7%D0%B0)\n",
    "\n",
    "[Ошибки первого и второго рода](https://ru.wikipedia.org/wiki/%D0%9E%D1%88%D0%B8%D0%B1%D0%BA%D0%B8_%D0%BF%D0%B5%D1%80%D0%B2%D0%BE%D0%B3%D0%BE_%D0%B8_%D0%B2%D1%82%D0%BE%D1%80%D0%BE%D0%B3%D0%BE_%D1%80%D0%BE%D0%B4%D0%B0)\n",
    "\n",
    "[P-значение](https://ru.wikipedia.org/wiki/P-%D0%B7%D0%BD%D0%B0%D1%87%D0%B5%D0%BD%D0%B8%D0%B5)\n",
    "\n",
    "Р(халк)=0 - невероятный халк.  \n",
    "Р(халк)=0.01 - маловероятный халк.   \n",
    "Р(халк)=0.9 - вероятный халк   \n",
    "Р(халк)=1 - достоверный халк.   \n",
    "При Р(халк) от -0.0001 и далее невероятность халка зашкаливает.\n",
    "\n",
    "1. p<0.05 - не всегда хорошая метрика. Фактически \n",
    "означает что каждое 20е исследование - ложно.\n",
    "2. Склонность публиковать только успешные результаты."
   ]
  },
  {
   "cell_type": "markdown",
   "metadata": {},
   "source": [
    "### [Абрахам Вальд и дырки от пуль](https://medium.com/@penguinpress/an-excerpt-from-how-not-to-be-wrong-by-jordan-ellenberg-664e708cfc3d#.cnyamnwa2)\n",
    "\n",
    "![](https://cdn-images-1.medium.com/max/800/1*p5OvFPF077pgTh7ccEkfVw.jpeg)\n",
    "\n",
    "Важность мысленных экспериментов. Как бы выглядели данные если бы значения были предельными (мин/макс)?"
   ]
  },
  {
   "cell_type": "code",
   "execution_count": 4,
   "metadata": {
    "collapsed": false
   },
   "outputs": [
    {
     "name": "stdout",
     "output_type": "stream",
     "text": [
      "for engine holes 12 out of 100 survived\n",
      "for fuel_system holes 39 out of 100 survived\n",
      "for rest holes 100 out of 100 survived\n",
      "for fuselage holes 27 out of 100 survived\n",
      "Bullet holes frequency for engine: 0.0674157303371\n",
      "Bullet holes frequency for fuel_system: 0.219101123596\n",
      "Bullet holes frequency for rest: 0.561797752809\n",
      "Bullet holes frequency for fuselage: 0.151685393258\n"
     ]
    }
   ],
   "source": [
    "from scipy.stats import bernoulli\n",
    "p_survival = {\n",
    "    'engine': 0.1,\n",
    "    'fuselage': 0.3,\n",
    "    'fuel_system': 0.5,\n",
    "    'rest': 1\n",
    "}\n",
    "bullet_holes = {\n",
    "    'engine': 0,\n",
    "    'fuselage': 0,\n",
    "    'fuel_system': 0,\n",
    "    'rest': 0    \n",
    "}\n",
    "planes_per_category = 100\n",
    "planes_returned = 0\n",
    "# each got hit 1 time in it's area\n",
    "for key in p_survival:\n",
    "    simulator = bernoulli(p=p_survival[key])\n",
    "    survived = sum(simulator.rvs(planes_per_category))\n",
    "    bullet_holes[key] = survived\n",
    "    planes_returned += survived\n",
    "    print \"for {} holes {} out of {} survived\".format(key,survived,planes_per_category)\n",
    "\n",
    "for key in bullet_holes:\n",
    "    print \"Bullet holes frequency for {}: {}\".format(key, bullet_holes[key]/float(planes_returned))\n",
    "\n",
    "    "
   ]
  },
  {
   "cell_type": "markdown",
   "metadata": {},
   "source": [
    "## Парадокс размера класса."
   ]
  },
  {
   "cell_type": "code",
   "execution_count": 12,
   "metadata": {
    "collapsed": false
   },
   "outputs": [
    {
     "name": "stdout",
     "output_type": "stream",
     "text": [
      "True average: 33.3333333333\n",
      "Total students: 200\n",
      "Students average: 57.975\n"
     ]
    }
   ],
   "source": [
    "import numpy as np\n",
    "class_sizes = [5,10,20,30,40,95]\n",
    "true_average = np.mean(class_sizes)\n",
    "print \"True average: {}\".format(true_average)\n",
    "students = []\n",
    "for class_size in class_sizes:\n",
    "    students.extend([class_size]*class_size)\n",
    "print \"Total students: {}\".format(len(students))\n",
    "votes = np.random.choice(students, 200)\n",
    "print \"Students average: {}\".format(np.mean(votes))"
   ]
  },
  {
   "cell_type": "markdown",
   "metadata": {},
   "source": [
    "## Парадокс приговора\n",
    "\n",
    "10 % из заключенных в США - пожизненно.\n",
    "11 % - 20 и более лет. [(c)](http://www.nytimes.com/2012/02/26/health/dealing-with-dementia-among-aging-criminals.html?pagewanted=all)"
   ]
  },
  {
   "cell_type": "code",
   "execution_count": 6,
   "metadata": {
    "collapsed": false
   },
   "outputs": [
    {
     "name": "stdout",
     "output_type": "stream",
     "text": [
      "True fraction of >=20 is 0.1984\n",
      "Let's visit on year 20\n",
      "Encountered 2329 out of 10000 inmates\n",
      "Sample fraction of >=20 is 0.357664233577\n"
     ]
    }
   ],
   "source": [
    "inmates_count = 10000\n",
    "sentence_lengthes = np.random.randint(0, 25, inmates_count)\n",
    "print \"True fraction of >=20 is {}\".format(sum([1 for sentence_length \n",
    "                                               in sentence_lengthes \n",
    "                                               if sentence_length>=20])/float(inmates_count))\n",
    "\n",
    "sentences = []\n",
    "for sentence_length in sentence_lengthes:\n",
    "    start_year = np.random.randint(0, 50, 1)[0]\n",
    "    end_year = start_year + sentence_length\n",
    "    sentences.append((start_year, end_year))\n",
    "\n",
    "year_of_visit = np.random.randint(0, 50, 1)[0]\n",
    "print \"Let's visit on year {}\".format(year_of_visit)\n",
    "\n",
    "encountered = sum([1 for start_year,end_year \n",
    "                   in sentences \n",
    "                   if year_of_visit>=start_year \n",
    "                   and year_of_visit<end_year ])\n",
    "encountered_with_20_and_more = sum([1 for start_year,end_year \n",
    "                   in sentences \n",
    "                   if year_of_visit>=start_year \n",
    "                   and year_of_visit<end_year and end_year-start_year>=20])\n",
    "print \"Encountered {} out of {} inmates\".format(encountered, inmates_count)\n",
    "print \"Sample fraction of >=20 is {}\".format(float(encountered_with_20_and_more)/encountered)\n",
    "    "
   ]
  },
  {
   "cell_type": "markdown",
   "metadata": {},
   "source": [
    "## [Погрешность оценки](https://en.wikipedia.org/wiki/Bias_of_an_estimator)\n",
    "\n",
    "![](https://wikimedia.org/api/rest_v1/media/math/render/svg/15434da181b21e17d2753d50d782f69813b092fe)"
   ]
  },
  {
   "cell_type": "markdown",
   "metadata": {},
   "source": [
    "## [Компромис Bias-Variance](https://en.wikipedia.org/wiki/Bias%E2%80%93variance_tradeoff)\n",
    "\n",
    "[Understanding the Bias-Variance Tradeoff](http://scott.fortmann-roe.com/docs/BiasVariance.html)\n",
    "\n",
    "![](data/bv.png)\n",
    "\n",
    "![](http://scott.fortmann-roe.com/docs/docs/BiasVariance/biasvariance.png)"
   ]
  },
  {
   "cell_type": "markdown",
   "metadata": {
    "collapsed": true
   },
   "source": [
    "## Метод Фишера\n",
    "\n",
    "Комбинирование оценок из нескольких исследований (предполагаются независимые результаты без заметного сдвига). \n",
    "\n",
    "Взвешенное среднее всех оценок с коэффициентами обратно пропорциональными дисперсии. Сумма коэффициентов 1. "
   ]
  },
  {
   "cell_type": "markdown",
   "metadata": {},
   "source": [
    "## \"Распад\" данных.\n",
    "\n",
    "Ценность данных часто прямо зависит от того, насколько свежие эти данные. Всегда имеет смысл вводить функцию весов убывающую по мере удаления в прошлое. Конкретный вид функции - тема спорная :) "
   ]
  },
  {
   "cell_type": "markdown",
   "metadata": {},
   "source": [
    "## [Коррекция на множественное тестирование](https://ru.wikipedia.org/wiki/%D0%9A%D0%BE%D1%80%D1%80%D0%B5%D0%BA%D1%86%D0%B8%D1%8F_%D0%BD%D0%B0_%D0%BC%D0%BD%D0%BE%D0%B6%D0%B5%D1%81%D1%82%D0%B2%D0%B5%D0%BD%D0%BD%D0%BE%D0%B5_%D1%82%D0%B5%D1%81%D1%82%D0%B8%D1%80%D0%BE%D0%B2%D0%B0%D0%BD%D0%B8%D0%B5)"
   ]
  },
  {
   "cell_type": "code",
   "execution_count": 7,
   "metadata": {
    "collapsed": false
   },
   "outputs": [
    {
     "data": {
      "text/plain": [
       "0.994079470779666"
      ]
     },
     "execution_count": 7,
     "metadata": {},
     "output_type": "execute_result"
    }
   ],
   "source": [
    "p = 0.05\n",
    "sample_a_count = 10\n",
    "sample_b_count = 10\n",
    "total_number_of_hypothesis = sample_a_count * sample_b_count\n",
    "probability_of_all_null_hypothesis_false = (1-p) ** total_number_of_hypothesis\n",
    "probability_of_at_least_some_failure = 1 - probability_of_all_null_hypothesis_false\n",
    "probability_of_at_least_some_failure"
   ]
  },
  {
   "cell_type": "markdown",
   "metadata": {},
   "source": [
    "[Поправка Бонферрони](https://en.wikipedia.org/wiki/Bonferroni_correction)"
   ]
  },
  {
   "cell_type": "code",
   "execution_count": 8,
   "metadata": {
    "collapsed": false
   },
   "outputs": [
    {
     "data": {
      "text/plain": [
       "0.04878246975766576"
      ]
     },
     "execution_count": 8,
     "metadata": {},
     "output_type": "execute_result"
    }
   ],
   "source": [
    "p = 0.05\n",
    "sample_a_count = 10\n",
    "sample_b_count = 10\n",
    "total_number_of_hypothesis = sample_a_count * sample_b_count\n",
    "bonferroni_p = p / total_number_of_hypothesis\n",
    "probability_of_all_null_hypothesis_false = (1-bonferroni_p) ** total_number_of_hypothesis\n",
    "probability_of_at_least_some_failure = 1 - probability_of_all_null_hypothesis_false\n",
    "probability_of_at_least_some_failure"
   ]
  },
  {
   "cell_type": "markdown",
   "metadata": {},
   "source": [
    "## [Регрессия к среднему](https://en.wikipedia.org/wiki/Regression_toward_the_mean)\n",
    "\n",
    "*Оригинальное* происхождение термина регрессия - Френсис Гальтон, 1886, исследование наследственных характеристик."
   ]
  },
  {
   "cell_type": "code",
   "execution_count": 17,
   "metadata": {
    "collapsed": false
   },
   "outputs": [],
   "source": [
    "all_skills = 10 + 3 * np.random.randn(1000)"
   ]
  },
  {
   "cell_type": "code",
   "execution_count": 18,
   "metadata": {
    "collapsed": false
   },
   "outputs": [],
   "source": [
    "results = []\n",
    "for skill in all_skills:\n",
    "    luck_1 = np.random.randn(1)[0]\n",
    "    luck_2 = np.random.randn(1)[0]\n",
    "    results.append((skill+luck_1, skill+luck_2))\n",
    "    \n",
    "results.sort(key=lambda a: a[0], reverse=True)"
   ]
  },
  {
   "cell_type": "code",
   "execution_count": 21,
   "metadata": {
    "collapsed": false
   },
   "outputs": [
    {
     "name": "stdout",
     "output_type": "stream",
     "text": [
      "Second results for top100 31 better, 69 worse\n"
     ]
    }
   ],
   "source": [
    "top100 = results[:100]\n",
    "second_better = sum([1 for result in top100 if result[1]>=result[0]])\n",
    "second_worse = sum([1 for result in top100 if result[1]<result[0]])\n",
    "print \"Second results for top100 {} better, {} worse\".format(second_better, second_worse)"
   ]
  },
  {
   "cell_type": "code",
   "execution_count": 23,
   "metadata": {
    "collapsed": false
   },
   "outputs": [
    {
     "name": "stdout",
     "output_type": "stream",
     "text": [
      "Second results for bottom100 71 better, 29 worse\n"
     ]
    }
   ],
   "source": [
    "bottom100 = results[-100:]\n",
    "second_better = sum([1 for result in bottom100 if result[1]>=result[0]])\n",
    "second_worse = sum([1 for result in bottom100 if result[1]<result[0]])\n",
    "print \"Second results for bottom100 {} better, {} worse\".format(second_better, second_worse)"
   ]
  },
  {
   "cell_type": "markdown",
   "metadata": {},
   "source": [
    "## Парадокс регрессии\n",
    "\n",
    "![](http://www.analytictech.com/mb313/Image57.gif)\n",
    "\n",
    "Что будет если построитьь регрессию поменяв переменные местами?"
   ]
  },
  {
   "cell_type": "markdown",
   "metadata": {},
   "source": [
    "## Домашнее задание \n",
    "\n",
    "Найдите каждый по одному примеру (из тех, которых не было на лекции) предвзятости в данных, которая привела к ошибочным результатам и пришлите ссылку. Бонус - если вы сможете в 1-2 абзацах описать как бы вы боролись с данным типом ошибок."
   ]
  },
  {
   "cell_type": "markdown",
   "metadata": {},
   "source": [
    "# Несколько слов о представлении результатов\n",
    "\n",
    "## Два фундаментальных вопроса\n",
    "\n",
    "Вы *обязаны* убедиться что слушатели знают ответ на этот вопрос и *понимают* его.\n",
    "\n",
    "1. Какова цель работы?\n",
    "    * Проверка гипотезы?\n",
    "    * Построение рекоммендационной системы?\n",
    "    * Сравнение групп?\n",
    "    * Изучение/трактовка феномена?\n",
    "    * Предсказание будуших результатов?\n",
    "    * Выбор дальнейших действий?\n",
    "2. Кому это важно?"
   ]
  },
  {
   "cell_type": "markdown",
   "metadata": {},
   "source": [
    "## Чеклист для самопроверки\n",
    "\n",
    "1. ЦЕЛЬ - что мы хотим достичь?\n",
    "2. МОДЕЛЬ - каково наше понимание данных?\n",
    "3. АЛГОРИТМЫ - какие использованы и почему?\n",
    "4. ВЫВОДЫ - что мы узнали? Полезна ли наша модель и почему/насколько? Нуждается ли в доработке?\n",
    "5. ПРОВЕРКА РЕЗУЛЬТАТОВ - *как* мы узнали информацию предыдущих пунктов? Какие ограничения?"
   ]
  },
  {
   "cell_type": "markdown",
   "metadata": {},
   "source": [
    "## Несколько полезных моментов\n",
    "\n",
    "1. Золотое правило - не заставляйте других слушать/смотреть то. что не хотели бы сделать сами.\n",
    "2. Знайте свою аудиторию.\n",
    "3. Каждый доклад, каждый отчет по проекту - история. Не перечисляйте факты, расскажите историю!\n",
    "4. Используйте правильные нотации и лексику (примеры ошибок: Литтлвуд, Халмос...).\n",
    "5. Читайте :) читайте популярных авторов, чтобы знать как надо делать.\n",
    "6. Обучайтесь (в том числе и) от обратного.\n",
    "7. Ваша презентация должна обладать единым направлением с четким потоком размышлений.  "
   ]
  },
  {
   "cell_type": "markdown",
   "metadata": {},
   "source": [
    "## [Линда, работник банка](https://en.wikipedia.org/wiki/Conjunction_fallacy)\n",
    "\n",
    "Линда - талантливая молодая женщина, 31 год. Выпускница философского факультета. Еще студенткой она обеспокоилась проблемами дискриминации и социальной спроведливости, а также участвовала в противоядерной демонстрации. \n",
    "\n",
    "Что более вероятно?\n",
    "1. Линда работает в банке.\n",
    "2. Линда активная феминистка и работает в банке."
   ]
  },
  {
   "cell_type": "markdown",
   "metadata": {},
   "source": [
    "Не делайте так :) [(c)](http://www.phdcomics.com/comics/archive.php?comicid=1121)\n",
    "\n",
    "![](http://www.phdcomics.com/comics/archive/phd011409s.gif)"
   ]
  },
  {
   "cell_type": "markdown",
   "metadata": {},
   "source": [
    "Постройте презентацию как историю.\n",
    "\n",
    "В любой истории есть завязка, развитие, кульминация, конец.\n",
    "\n",
    "1. Создайте интересных персонажей.\n",
    "2. Поставьте перед ними проблему.\n",
    "3. Решите проблему.\n",
    "4. Оставьте завязку на сиквел!"
   ]
  },
  {
   "cell_type": "markdown",
   "metadata": {},
   "source": [
    "Не заставляйте аудиторию думать! (...больше необходимого...)\n",
    "\n",
    "Возьмите их за руку и проведите вдоль всей вашей цепочки рассуждений.\n",
    "\n",
    "Обратите внимание на любопытные места, которые легко пропустить. \n",
    "\n",
    "Используйте визуальные образы."
   ]
  },
  {
   "cell_type": "markdown",
   "metadata": {},
   "source": [
    "![](http://gravyanecdote.com/wp-content/uploads/2014/10/Same-charts-different-message.png)"
   ]
  },
  {
   "cell_type": "markdown",
   "metadata": {},
   "source": [
    "## Полезные ссылки (англ)\n",
    "\n",
    "* [Written Communications](http://www4.stat.ncsu.edu/~davidian/st810a/written_handout.pdf)\n",
    "* [How To Write Mathematis](http://www.matem.unam.mx/ernesto/LIBROS/Halmos-How-To-Write%20Mathematics.pdf)\n",
    "* [The Science of Scientific Writing](http://engineering.missouri.edu/civil/files/science-of-writing.pdf)"
   ]
  },
  {
   "cell_type": "markdown",
   "metadata": {},
   "source": [
    "## Полезные книги (англ)\n",
    "\n",
    "![](https://images-na.ssl-images-amazon.com/images/I/51dVe9TSl7L._SX387_BO1,204,203,200_.jpg)\n",
    "![](http://t2.gstatic.com/images?q=tbn:ANd9GcRGvYsrgOjyzmv3W9ErIg6kNVHZsBGMWBwR8xCavheZSZhDwTMe)\n",
    "![](http://t0.gstatic.com/images?q=tbn:ANd9GcS-J8XBpmrCsLdFzCMtvLJJSo3ISCDVuTpDVKazMV4gBuA4jjPI)\n",
    "![](http://t1.gstatic.com/images?q=tbn:ANd9GcQQmuXzyEEkdGQtfmbSUU-suQ6bqv8xYSJaJgvsIo001xCzGyon)"
   ]
  },
  {
   "cell_type": "code",
   "execution_count": null,
   "metadata": {
    "collapsed": true
   },
   "outputs": [],
   "source": []
  }
 ],
 "metadata": {
  "kernelspec": {
   "display_name": "Python 2",
   "language": "python",
   "name": "python2"
  },
  "language_info": {
   "codemirror_mode": {
    "name": "ipython",
    "version": 2
   },
   "file_extension": ".py",
   "mimetype": "text/x-python",
   "name": "python",
   "nbconvert_exporter": "python",
   "pygments_lexer": "ipython2",
   "version": "2.7.3"
  }
 },
 "nbformat": 4,
 "nbformat_minor": 2
}

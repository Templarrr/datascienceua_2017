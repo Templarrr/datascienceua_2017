{
 "cells": [
  {
   "cell_type": "code",
   "execution_count": null,
   "metadata": {
    "collapsed": true
   },
   "outputs": [],
   "source": [
    "import pandas as pd\n",
    "import matplotlib.pyplot as plt\n",
    "%matplotlib inline"
   ]
  },
  {
   "cell_type": "code",
   "execution_count": null,
   "metadata": {
    "collapsed": false
   },
   "outputs": [],
   "source": [
    "fig_size = [20, 10] \n",
    "tick_size = 32\n",
    "fontlabel_size = 24\n",
    "params = {\n",
    "    'lines.markersize' : 2,\n",
    "    'axes.labelsize': fontlabel_size,\n",
    "    'font.size': fontlabel_size,\n",
    "    'legend.fontsize': fontlabel_size,\n",
    "    'xtick.labelsize': tick_size,\n",
    "    'ytick.labelsize': tick_size,\n",
    "    'figure.figsize': fig_size\n",
    "}\n",
    "plt.rcParams.update(params)"
   ]
  },
  {
   "cell_type": "code",
   "execution_count": null,
   "metadata": {
    "collapsed": true
   },
   "outputs": [],
   "source": [
    "antibiotics_url = 'https://gist.githubusercontent.com/borgar/cd32f1d804951034b224/raw/a2d9b3ee978b7178c4e91dfd9048c1116842a9c0/bacteria.csv'\n",
    "df = pd.read_csv(antibiotics_url)"
   ]
  },
  {
   "cell_type": "code",
   "execution_count": null,
   "metadata": {},
   "outputs": [],
   "source": [
    "df"
   ]
  },
  {
   "cell_type": "code",
   "execution_count": null,
   "metadata": {},
   "outputs": [],
   "source": [
    "df.groupby('gram').mean()"
   ]
  },
  {
   "cell_type": "code",
   "execution_count": null,
   "metadata": {
    "collapsed": false
   },
   "outputs": [],
   "source": [
    "df.plot(kind='bar')"
   ]
  },
  {
   "cell_type": "code",
   "execution_count": null,
   "metadata": {
    "collapsed": false
   },
   "outputs": [],
   "source": [
    "df.plot(kind='bar', logy=True, x='name')"
   ]
  },
  {
   "cell_type": "code",
   "execution_count": null,
   "metadata": {
    "collapsed": false
   },
   "outputs": [],
   "source": [
    "SN_df = df[(df['streptomycin'] > 0.5) & (df['neomycin'] > 0.5) & (df['penicillin'] < 0.5)]\n",
    "SN_df.plot(kind='bar', logy=True, x='name')\n",
    "PS_df = df[(df['streptomycin'] > 0.5) & (df['neomycin'] < 0.5) & (df['penicillin'] > 0.5)]\n",
    "PS_df.plot(kind='bar', logy=True, x='name')"
   ]
  },
  {
   "cell_type": "code",
   "execution_count": null,
   "metadata": {
    "collapsed": false
   },
   "outputs": [],
   "source": [
    "fig, axes = plt.subplots(nrows=2, ncols=1)\n",
    "SN_df.plot(ax=axes[0], kind='bar', logy=True, x='name', rot=0)\n",
    "axes[0].set_title('SN')\n",
    "PS_df.plot(ax=axes[1], kind='bar', logy=True, x='name', rot=0)\n",
    "axes[1].set_title('PS')"
   ]
  },
  {
   "cell_type": "code",
   "execution_count": null,
   "metadata": {
    "collapsed": false
   },
   "outputs": [],
   "source": [
    "df.plot(kind='scatter', y='penicillin', x='neomycin', logx=True, logy=True)"
   ]
  },
  {
   "cell_type": "code",
   "execution_count": null,
   "metadata": {
    "collapsed": false
   },
   "outputs": [],
   "source": [
    "pd.tools.plotting.radviz(df[['name', 'penicillin', 'streptomycin', 'neomycin']], 'name')"
   ]
  },
  {
   "cell_type": "code",
   "execution_count": null,
   "metadata": {
    "collapsed": false
   },
   "outputs": [],
   "source": [
    "df2 = pd.DataFrame({'1.before': [10,20,30,40], '2.after': [15, 10, 35, 40], '3.in_1_week': [10, 15, 40, 35]})\n",
    "df2"
   ]
  },
  {
   "cell_type": "code",
   "execution_count": null,
   "metadata": {
    "collapsed": false
   },
   "outputs": [],
   "source": [
    "df2.plot(kind='bar')"
   ]
  },
  {
   "cell_type": "code",
   "execution_count": null,
   "metadata": {
    "collapsed": false
   },
   "outputs": [],
   "source": [
    "df2.transpose().plot(kind='bar')"
   ]
  },
  {
   "cell_type": "code",
   "execution_count": null,
   "metadata": {
    "collapsed": false
   },
   "outputs": [],
   "source": [
    "df2.transpose().plot(kind='bar', stacked=True)"
   ]
  },
  {
   "cell_type": "code",
   "execution_count": null,
   "metadata": {
    "collapsed": false
   },
   "outputs": [],
   "source": [
    "df2.plot(kind='pie', subplots=True)"
   ]
  },
  {
   "cell_type": "code",
   "execution_count": null,
   "metadata": {
    "collapsed": false
   },
   "outputs": [],
   "source": [
    "df2.plot(kind='line')"
   ]
  },
  {
   "cell_type": "code",
   "execution_count": null,
   "metadata": {
    "collapsed": false
   },
   "outputs": [],
   "source": [
    "df2.transpose().plot(kind='line')"
   ]
  },
  {
   "cell_type": "code",
   "execution_count": null,
   "metadata": {
    "collapsed": false
   },
   "outputs": [],
   "source": [
    "df2.plot(kind='scatter', x='1.before', y='2.after')\n",
    "plt.plot( [0,50],[0,50] )\n",
    "\n",
    "for label in range(4):\n",
    "    plt.annotate(\n",
    "        \"Party \" + str(label),\n",
    "        xy=(df2['1.before'][label], df2['2.after'][label]), xytext=(-20, 20),\n",
    "        textcoords='offset points', ha='right', va='bottom',\n",
    "        bbox=dict(boxstyle='round,pad=0.5', fc='yellow', alpha=0.5),\n",
    "        arrowprops=dict(arrowstyle = '->', connectionstyle='arc3,rad=0'))"
   ]
  },
  {
   "cell_type": "code",
   "execution_count": null,
   "metadata": {
    "collapsed": true
   },
   "outputs": [],
   "source": [
    "import seaborn as sns\n",
    "f, (ax1, ax2, ax3) = plt.subplots(3, sharex=True)\n",
    "ax1.set_title('Before')\n",
    "sns.barplot(x=df2.index, y=df2['1.before'], ax=ax1, palette='BuPu')\n",
    "ax2.set_title('After')\n",
    "sns.barplot(x=df2.index, y=df2['2.after'], ax=ax2)\n",
    "ax3.set_title('In one week')\n",
    "sns.barplot(x=df2.index, y=df2['3.in_1_week'], ax=ax3)"
   ]
  }
 ],
 "metadata": {
  "kernelspec": {
   "display_name": "Python 2",
   "language": "python",
   "name": "python2"
  },
  "language_info": {
   "codemirror_mode": {
    "name": "ipython",
    "version": 2.0
   },
   "file_extension": ".py",
   "mimetype": "text/x-python",
   "name": "python",
   "nbconvert_exporter": "python",
   "pygments_lexer": "ipython2",
   "version": "2.7.3"
  }
 },
 "nbformat": 4,
 "nbformat_minor": 0
}